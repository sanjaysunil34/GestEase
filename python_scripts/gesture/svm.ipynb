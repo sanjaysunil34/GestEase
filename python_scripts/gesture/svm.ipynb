{
 "cells": [
  {
   "cell_type": "code",
   "execution_count": 1,
   "metadata": {},
   "outputs": [],
   "source": [
    "import numpy as np\n",
    "\n",
    "RANDOM_SEED = 42"
   ]
  },
  {
   "cell_type": "code",
   "execution_count": 2,
   "metadata": {},
   "outputs": [],
   "source": [
    "dataset = 'model/keypoint_classifier/keypoint.csv'\n",
    "model_save_path = 'model/keypoint_classifier/keypoint_classifier.hdf5'\n",
    "tflite_save_path = 'model/keypoint_classifier/keypoint_classifier.tflite'"
   ]
  },
  {
   "cell_type": "code",
   "execution_count": 3,
   "metadata": {},
   "outputs": [
    {
     "name": "stdout",
     "output_type": "stream",
     "text": [
      "SVM with linear kernel function\n",
      " \n"
     ]
    }
   ],
   "source": [
    "print(\"SVM with linear kernel function\")\n",
    "print(\" \")\n",
    "\n",
    "from sklearn import svm\n",
    "from sklearn.model_selection import train_test_split\n"
   ]
  },
  {
   "cell_type": "code",
   "execution_count": 4,
   "metadata": {},
   "outputs": [
    {
     "name": "stdout",
     "output_type": "stream",
     "text": [
      "[[78  0  0  0  0  0  0  0  0  0  0  0  0]\n",
      " [ 0 76  0  0  0  0  0  0  0  0  0  0  0]\n",
      " [ 0  0 65  0  0  0  0  0  0  0  0  0  0]\n",
      " [ 0  0  0 60  0  0  0  0  0  0  0  0  0]\n",
      " [ 0  0  0  0 62  0  0  0  0  0  0  0  0]\n",
      " [ 0  0  0  0  0 64  0  0  0  0  0  0  0]\n",
      " [ 0  0  0  0  0  1 62  0  0  0  0  0  0]\n",
      " [ 0  0  0  0  0  0  0 52  0  0  0  0  0]\n",
      " [ 0  0  0  0  0  0  0  0 54  0  0  0  0]\n",
      " [ 0  0  0  0  0  0  0  0  0 64  0  0  0]\n",
      " [ 0  0  0  0  0  0  0  0  0  0 62  0  0]\n",
      " [ 0  0  0  0  0  0  0  0  0  0  0 57  0]\n",
      " [ 0  0  0  0  0  0  0  0  0  0  0  0 57]]\n"
     ]
    }
   ],
   "source": [
    "# import matplotlib.pyplot as plt\n",
    "# from sklearn.model_selection import learning_curve\n",
    "from sklearn.metrics import confusion_matrix\n",
    "\n",
    "# Set up data\n",
    "X_dataset = np.loadtxt(dataset, delimiter=',', dtype='float32', usecols=list(range(1, (21 * 2) + 1)))\n",
    "y_dataset = np.loadtxt(dataset, delimiter=',', dtype='int32', usecols=(0))\n",
    "X_train, X_test, y_train, y_test = train_test_split(X_dataset, y_dataset, train_size=0.75, random_state=RANDOM_SEED)\n",
    "\n",
    "# Create an SVM model with linear kernel\n",
    "model = svm.SVC(kernel='linear')\n",
    "\n",
    "# Train the model\n",
    "model.fit(X_train, y_train)\n",
    "\n",
    "# Generate learning curves for the model\n",
    "# train_sizes, train_scores, val_scores = learning_curve(\n",
    "#     model, X_train, y_train, cv=5,\n",
    "#     train_sizes=np.linspace(0.1, 1.0, 10), scoring='accuracy')\n",
    "\n",
    "# Calculate the mean and standard deviation of the accuracy scores\n",
    "# train_scores_mean = np.mean(train_scores, axis=1)\n",
    "# train_scores_std = np.std(train_scores, axis=1)\n",
    "# val_scores_mean = np.mean(val_scores, axis=1)\n",
    "# val_scores_std = np.std(val_scores, axis=1)\n",
    "\n",
    "# Plot the learning curves\n",
    "# plt.figure()\n",
    "# plt.title(\"Learning Curves (SVM with linear kernel)\")\n",
    "# plt.xlabel(\"Training Examples\")\n",
    "# plt.ylabel(\"Accuracy\")\n",
    "# plt.grid()\n",
    "# plt.fill_between(train_sizes, train_scores_mean - train_scores_std,\n",
    "#                  train_scores_mean + train_scores_std, alpha=0.1,\n",
    "#                  color=\"r\")\n",
    "# plt.fill_between(train_sizes, val_scores_mean - val_scores_std,\n",
    "#                  val_scores_mean + val_scores_std, alpha=0.1, color=\"g\")\n",
    "# plt.plot(train_sizes, train_scores_mean, 'o-', color=\"r\",\n",
    "#          label=\"Training Accuracy\")\n",
    "# plt.plot(train_sizes, val_scores_mean, 'o-', color=\"g\",\n",
    "#          label=\"Validation Accuracy\")\n",
    "# plt.legend(loc=\"best\")\n",
    "\n",
    "# Make predictions on the test set\n",
    "y_pred = model.predict(X_test)\n",
    "\n",
    "# Print the confusion matrix\n",
    "conf_mat = confusion_matrix(y_test, y_pred)\n",
    "print(conf_mat)\n",
    "\n",
    "# plt.show()\n"
   ]
  },
  {
   "cell_type": "code",
   "execution_count": 5,
   "metadata": {},
   "outputs": [
    {
     "data": {
      "text/plain": [
       "['model/keypoint_classifier/keypoint_classifier.joblib']"
      ]
     },
     "execution_count": 5,
     "metadata": {},
     "output_type": "execute_result"
    }
   ],
   "source": [
    "import joblib\n",
    "\n",
    "# Save the model to a file\n",
    "model_save_path = 'model/keypoint_classifier/keypoint_classifier.joblib'\n",
    "joblib.dump(model, model_save_path)"
   ]
  }
 ],
 "metadata": {
  "kernelspec": {
   "display_name": "opencv-gestease",
   "language": "python",
   "name": "python3"
  },
  "language_info": {
   "codemirror_mode": {
    "name": "ipython",
    "version": 3
   },
   "file_extension": ".py",
   "mimetype": "text/x-python",
   "name": "python",
   "nbconvert_exporter": "python",
   "pygments_lexer": "ipython3",
   "version": "3.10.6"
  },
  "orig_nbformat": 4
 },
 "nbformat": 4,
 "nbformat_minor": 2
}
